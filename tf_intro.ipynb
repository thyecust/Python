{
  "nbformat": 4,
  "nbformat_minor": 0,
  "metadata": {
    "colab": {
      "name": "tf-intro.ipynb",
      "provenance": [],
      "collapsed_sections": [],
      "mount_file_id": "18Y6KctHaXe3jgrm86oFVCsJhM4v7gFoZ",
      "authorship_tag": "ABX9TyNbk48DKoqbulaogXHEtBnM",
      "include_colab_link": true
    },
    "kernelspec": {
      "name": "python3",
      "display_name": "Python 3"
    }
  },
  "cells": [
    {
      "cell_type": "markdown",
      "metadata": {
        "id": "view-in-github",
        "colab_type": "text"
      },
      "source": [
        "<a href=\"https://colab.research.google.com/github/thyecust/Python/blob/master/tf_intro.ipynb\" target=\"_parent\"><img src=\"https://colab.research.google.com/assets/colab-badge.svg\" alt=\"Open In Colab\"/></a>"
      ]
    },
    {
      "cell_type": "markdown",
      "metadata": {
        "id": "LZFA5PjmOCbY",
        "colab_type": "text"
      },
      "source": [
        "# 幼儿园 Tensorflow 实验\n",
        "\n",
        "by thy@mail.ecust.edu.cn\n",
        "\n",
        "不保留权益，支持自由转载。"
      ]
    },
    {
      "cell_type": "markdown",
      "metadata": {
        "id": "lZs_j1jQOIuH",
        "colab_type": "text"
      },
      "source": [
        "## 什么是 Tensorflow\n",
        "\n",
        "**Tensorflow**，从 Tom Ford 手里抢来了 tf 这个缩写，是一个 Python 第三方库。"
      ]
    },
    {
      "cell_type": "markdown",
      "metadata": {
        "id": "Dkf9f7oqNzMa",
        "colab_type": "text"
      },
      "source": [
        "### pip 安装\n",
        "\n",
        "用 pip 安装\n",
        "\n",
        "```powershell\n",
        "pip install --upgrade --ignore-installed tensorflow\n",
        "```\n",
        "\n",
        "注意：不同版本的 tf 支持不同版本的 python，可以在 [tuna](https://pypi.tuna.tsinghua.edu.cn/simple/tensorflow/) 查一下自己的版本对不对。"
      ]
    },
    {
      "cell_type": "markdown",
      "metadata": {
        "id": "YB31cvvkPG5h",
        "colab_type": "text"
      },
      "source": [
        "### colab\n",
        "\n",
        "如果不想安装，可以用 colab 提供的现成的 tf，也就是这个演示用的东西。"
      ]
    },
    {
      "cell_type": "markdown",
      "metadata": {
        "id": "VfCag6EZPeFp",
        "colab_type": "text"
      },
      "source": [
        "## 使用 Tensorflow 做手写字识别"
      ]
    },
    {
      "cell_type": "markdown",
      "metadata": {
        "id": "9anOyJQZR9q5",
        "colab_type": "text"
      },
      "source": [
        "先导入这个 tf"
      ]
    },
    {
      "cell_type": "code",
      "metadata": {
        "id": "1YMj07qnSCpC",
        "colab_type": "code",
        "colab": {}
      },
      "source": [
        "import tensorflow as tf"
      ],
      "execution_count": 0,
      "outputs": []
    },
    {
      "cell_type": "markdown",
      "metadata": {
        "id": "X8ghA5E7SEeD",
        "colab_type": "text"
      },
      "source": [
        "然后导入 MNIST 数据集，tf 自带这个数据集\n",
        "\n",
        "![替代文字](https://img2018.cnblogs.com/blog/1365470/201903/1365470-20190305190440844-1487062914.png)"
      ]
    },
    {
      "cell_type": "code",
      "metadata": {
        "id": "M52sXTTCSkv9",
        "colab_type": "code",
        "colab": {}
      },
      "source": [
        "mnist = tf.keras.datasets.mnist\n",
        "(x_train, y_train),(x_test, y_test) = mnist.load_data()\n",
        "x_train, x_test = x_train / 255.0, x_test / 255.0"
      ],
      "execution_count": 0,
      "outputs": []
    },
    {
      "cell_type": "markdown",
      "metadata": {
        "id": "FZAZQe_lUqeZ",
        "colab_type": "text"
      },
      "source": [
        "训练一个神经网络模型\n",
        "\n",
        "* 第一层，flattern，把 28\\*28 的输入编程 1\\*784 的一维向量\n",
        "* 第二层，dense，全连接层，用 relu 函数，连接到 128 个神经元\n",
        "* 第三层，dropout，随机丢弃 20% 的神经元\n",
        "* 第四层，dense，全连接到 10 个类\n",
        "\n",
        "![替代文字](https://upload.wikimedia.org/wikipedia/commons/thumb/c/c9/Ramp_function.svg/488px-Ramp_function.svg.png)\n",
        "\n",
        "![替代文字](https://bkimg.cdn.bcebos.com/pic/d62a6059252dd42af3835f580f3b5bb5c8eab8bf?x-bce-process=image/watermark,g_7,image_d2F0ZXIvYmFpa2U5Mg==,xp_5,yp_5)"
      ]
    },
    {
      "cell_type": "code",
      "metadata": {
        "id": "kCvyzFgnaHgs",
        "colab_type": "code",
        "colab": {}
      },
      "source": [
        "model = tf.keras.models.Sequential([\n",
        "  tf.keras.layers.Flatten(input_shape=(28, 28)),\n",
        "  tf.keras.layers.Dense(128, activation='relu'),\n",
        "  tf.keras.layers.Dropout(0.2),\n",
        "  tf.keras.layers.Dense(10, activation='softmax')\n",
        "])"
      ],
      "execution_count": 0,
      "outputs": []
    },
    {
      "cell_type": "markdown",
      "metadata": {
        "id": "78vrSoXaahNZ",
        "colab_type": "text"
      },
      "source": [
        "确定超参数、loss、metrics"
      ]
    },
    {
      "cell_type": "code",
      "metadata": {
        "id": "WlueEjG6rbDo",
        "colab_type": "code",
        "colab": {}
      },
      "source": [
        "model.compile(optimizer='adam',\n",
        "              loss='sparse_categorical_crossentropy',\n",
        "              metrics=['accuracy'])"
      ],
      "execution_count": 0,
      "outputs": []
    },
    {
      "cell_type": "markdown",
      "metadata": {
        "id": "3Z79rUY4rcek",
        "colab_type": "text"
      },
      "source": [
        "训练 10 次，用测试集检验"
      ]
    },
    {
      "cell_type": "code",
      "metadata": {
        "colab_type": "code",
        "outputId": "be4a26d3-30fd-4e27-e7ff-7c5b32b3eb94",
        "id": "L_WpZb-YaMlm",
        "colab": {
          "base_uri": "https://localhost:8080/",
          "height": 253
        }
      },
      "source": [
        "model.fit(x_train, y_train, epochs=5)\n",
        "model.evaluate(x_test, y_test)"
      ],
      "execution_count": 0,
      "outputs": [
        {
          "output_type": "stream",
          "text": [
            "Epoch 1/5\n",
            "1875/1875 [==============================] - 4s 2ms/step - loss: 0.2941 - accuracy: 0.9134\n",
            "Epoch 2/5\n",
            "1875/1875 [==============================] - 4s 2ms/step - loss: 0.1408 - accuracy: 0.9575\n",
            "Epoch 3/5\n",
            "1875/1875 [==============================] - 4s 2ms/step - loss: 0.1071 - accuracy: 0.9679\n",
            "Epoch 4/5\n",
            "1875/1875 [==============================] - 4s 2ms/step - loss: 0.0882 - accuracy: 0.9728\n",
            "Epoch 5/5\n",
            "1875/1875 [==============================] - 4s 2ms/step - loss: 0.0740 - accuracy: 0.9766\n",
            "313/313 [==============================] - 0s 1ms/step - loss: 0.0715 - accuracy: 0.9783\n"
          ],
          "name": "stdout"
        },
        {
          "output_type": "execute_result",
          "data": {
            "text/plain": [
              "[0.07153493165969849, 0.9782999753952026]"
            ]
          },
          "metadata": {
            "tags": []
          },
          "execution_count": 25
        }
      ]
    },
    {
      "cell_type": "markdown",
      "metadata": {
        "id": "vPwhI6A5k2Vw",
        "colab_type": "text"
      },
      "source": [
        "## Teachable Machine\n",
        "\n",
        "那幼儿园小朋友怎么训练模型呢？\n",
        "\n",
        "用 [Teachable Machine](https://teachablemachine.withgoogle.com/)。"
      ]
    },
    {
      "cell_type": "markdown",
      "metadata": {
        "id": "I7WG8-4ooYrY",
        "colab_type": "text"
      },
      "source": [
        "导入图像处理和机器学习有关的库"
      ]
    },
    {
      "cell_type": "code",
      "metadata": {
        "id": "K-6rS-Jwode1",
        "colab_type": "code",
        "colab": {}
      },
      "source": [
        "import tensorflow.keras\n",
        "from PIL import Image, ImageOps\n",
        "import numpy as np"
      ],
      "execution_count": 0,
      "outputs": []
    },
    {
      "cell_type": "markdown",
      "metadata": {
        "id": "g72Ao_dDoetu",
        "colab_type": "text"
      },
      "source": [
        "加载模型"
      ]
    },
    {
      "cell_type": "code",
      "metadata": {
        "id": "G92yoW8FopSG",
        "colab_type": "code",
        "outputId": "58c9cb6d-c381-4215-e97e-cb4f4f71681a",
        "colab": {
          "base_uri": "https://localhost:8080/",
          "height": 55
        }
      },
      "source": [
        "# Disable scientific notation for clarity\n",
        "np.set_printoptions(suppress=True)\n",
        "\n",
        "# Load the model\n",
        "model = tensorflow.keras.models.load_model('keras_model.h5')\n",
        "yu\n",
        "# Create the array of the right shape to feed into the keras model\n",
        "# The 'length' or number of images you can put into the array is\n",
        "# determined by the first position in the shape tuple, in this case 1.\n",
        "data = np.ndarray(shape=(1, 224, 224, 3), dtype=np.float32)"
      ],
      "execution_count": 0,
      "outputs": [
        {
          "output_type": "stream",
          "text": [
            "WARNING:tensorflow:No training configuration found in the save file, so the model was *not* compiled. Compile it manually.\n"
          ],
          "name": "stdout"
        }
      ]
    },
    {
      "cell_type": "markdown",
      "metadata": {
        "id": "M5kmtOGaotOF",
        "colab_type": "text"
      },
      "source": [
        "加载测试图像"
      ]
    },
    {
      "cell_type": "code",
      "metadata": {
        "id": "PHhyhc5Rou5m",
        "colab_type": "code",
        "colab": {}
      },
      "source": [
        "# Replace this with the path to your image\n",
        "image = Image.open('test.jpg')\n",
        "\n",
        "#resize the image to a 224x224 with the same strategy as in TM2:\n",
        "#resizing the image to be at least 224x224 and then cropping from the center\n",
        "size = (224, 224)\n",
        "image = ImageOps.fit(image, size, Image.ANTIALIAS)\n",
        "\n",
        "#turn the image into a numpy array\n",
        "image_array = np.asarray(image)\n",
        "\n",
        "# display the resized image\n",
        "image.show()"
      ],
      "execution_count": 0,
      "outputs": []
    },
    {
      "cell_type": "markdown",
      "metadata": {
        "id": "CiDpltASqzVK",
        "colab_type": "text"
      },
      "source": [
        "给出预测"
      ]
    },
    {
      "cell_type": "code",
      "metadata": {
        "id": "qlNcai95mahG",
        "colab_type": "code",
        "outputId": "db141cff-8833-4b62-a677-d43e576fc8d7",
        "colab": {
          "base_uri": "https://localhost:8080/",
          "height": 35
        }
      },
      "source": [
        "# Normalize the image\n",
        "normalized_image_array = (image_array.astype(np.float32) / 127.0) - 1\n",
        "\n",
        "# Load the image into the array\n",
        "data[0] = normalized_image_array\n",
        "\n",
        "# run the inference\n",
        "prediction = model.predict(data)\n",
        "print(prediction)\n"
      ],
      "execution_count": 0,
      "outputs": [
        {
          "output_type": "stream",
          "text": [
            "[[0.99988735 0.00011266]]\n"
          ],
          "name": "stdout"
        }
      ]
    },
    {
      "cell_type": "markdown",
      "metadata": {
        "id": "tMB20VbofmdW",
        "colab_type": "text"
      },
      "source": [
        "## 参考资源\n",
        "\n",
        "* Google [机器学习速成课程](https://developers.google.com/machine-learning/crash-course)\n",
        "* Tensorflow [教程](https://www.tensorflow.org/tutorials/keras/classification)\n",
        "* Stanford CS229，以前是 Andrew Ng 的课，B 站有视频，今年 Moses Charikar 讲\n",
        "* 我的微信公众号：**计算与经济学**，计划写 CS229、224n、231n 三门课的笔记"
      ]
    }
  ]
}